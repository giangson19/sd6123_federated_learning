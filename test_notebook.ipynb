{
 "cells": [
  {
   "cell_type": "code",
   "execution_count": 7,
   "id": "1a072892",
   "metadata": {},
   "outputs": [],
   "source": [
    "import ssl\n",
    "import urllib.request\n",
    "import matplotlib.pyplot as plt\n",
    "import torchvision\n",
    "import numpy as np\n",
    "\n",
    "ssl._create_default_https_context = ssl._create_unverified_context\n",
    "\n",
    "import torch\n",
    "import torch.nn as nn\n",
    "import torch.nn.functional as F\n",
    "from torch.utils.data import DataLoader\n",
    "from torchvision import datasets, transforms\n",
    "import flwr as fl\n",
    "from flwr.common import Metrics\n",
    "from typing import Dict, Tuple, List\n",
    "from flwr.server.strategy import FedProx, FedAvgM\n",
    "from flwr.client import NumPyClient\n",
    "\n",
    "from model import CIFARNet  # Assuming CIFARNet is defined in model.py\n",
    "from data import load_cifar10, create_dataloaders  # Assuming data loading functions are in data.py\n",
    "from client import CIFAR10Client, client_fn  # Assuming CIFAR10Client is defined in client.py\n",
    "\n",
    "# Device\n",
    "DEVICE = torch.device(\"cuda\" if torch.cuda.is_available() else \"cpu\")\n",
    "\n",
    "\n",
    "# Configure the FedProx strategy\n",
    "def weighted_average(metrics: List[Tuple[int, Metrics]]) -> Metrics:\n",
    "    # Multiply accuracy of each client by number of examples used\n",
    "    accuracies = [num_examples * m[\"accuracy\"] for num_examples, m in metrics]\n",
    "    examples = [num_examples for num_examples, _ in metrics]\n",
    "\n",
    "    # Aggregate and return custom metric (weighted accuracy)\n",
    "    return {\"accuracy\": sum(accuracies) / sum(examples)}\n",
    "\n",
    "strategy = FedAvgM(\n",
    "    fraction_fit=1.0,  # Sample all available clients for each round\n",
    "    fraction_evaluate=1.0,  # Evaluate all available clients\n",
    "    min_fit_clients=3,  # Minimum number of clients to perform fit\n",
    "    min_evaluate_clients=3,  # Minimum number of clients to perform evaluation\n",
    "    min_available_clients=3,  # Minimum number of total clients in the system\n",
    "    evaluate_metrics_aggregation_fn=weighted_average, # Aggregate accuracy\n",
    ")\n"
   ]
  },
  {
   "cell_type": "code",
   "execution_count": 8,
   "id": "9b4211e7",
   "metadata": {},
   "outputs": [
    {
     "name": "stderr",
     "output_type": "stream",
     "text": [
      "\u001b[93mWARNING \u001b[0m:   DEPRECATED FEATURE: flwr.simulation.start_simulation() is deprecated.\n",
      "\tInstead, use the `flwr run` CLI command to start a local simulation in your Flower app, as shown for example below:\n",
      "\n",
      "\t\t$ flwr new  # Create a new Flower app from a template\n",
      "\n",
      "\t\t$ flwr run  # Run the Flower app in Simulation Mode\n",
      "\n",
      "\tUsing `start_simulation()` is deprecated.\n",
      "\n",
      "            This is a deprecated feature. It will be removed\n",
      "            entirely in future versions of Flower.\n",
      "        \n",
      "\u001b[92mINFO \u001b[0m:      Starting Flower simulation, config: num_rounds=10, no round_timeout\n",
      "2025-04-25 11:51:59,001\tINFO worker.py:1771 -- Started a local Ray instance.\n",
      "\u001b[92mINFO \u001b[0m:      Flower VCE: Ray initialized with resources: {'CPU': 8.0, 'object_store_memory': 2147483648.0, 'node:127.0.0.1': 1.0, 'memory': 8147289703.0, 'node:__internal_head__': 1.0}\n",
      "\u001b[92mINFO \u001b[0m:      Optimize your simulation with Flower VCE: https://flower.ai/docs/framework/how-to-run-simulations.html\n",
      "\u001b[92mINFO \u001b[0m:      Flower VCE: Resources for each Virtual Client: {'num_cpus': 1, 'memory': 4096}\n",
      "\u001b[92mINFO \u001b[0m:      Flower VCE: Creating VirtualClientEngineActorPool with 8 actors\n",
      "\u001b[92mINFO \u001b[0m:      [INIT]\n",
      "\u001b[92mINFO \u001b[0m:      Requesting initial parameters from one random client\n",
      "\u001b[36m(ClientAppActor pid=34776)\u001b[0m \u001b[93mWARNING \u001b[0m:   DEPRECATED FEATURE: `client_fn` now expects a signature `def client_fn(context: Context)`.The provided `client_fn` has signature: {'cid': <Parameter \"cid: str\">}. You can import the `Context` like this: `from flwr.common import Context`\n",
      "\u001b[36m(ClientAppActor pid=34776)\u001b[0m \n",
      "\u001b[36m(ClientAppActor pid=34776)\u001b[0m             This is a deprecated feature. It will be removed\n",
      "\u001b[36m(ClientAppActor pid=34776)\u001b[0m             entirely in future versions of Flower.\n",
      "\u001b[36m(ClientAppActor pid=34776)\u001b[0m         \n"
     ]
    },
    {
     "name": "stdout",
     "output_type": "stream",
     "text": [
      "\u001b[36m(ClientAppActor pid=34776)\u001b[0m Files already downloaded and verified\n"
     ]
    },
    {
     "name": "stderr",
     "output_type": "stream",
     "text": [
      "\u001b[92mINFO \u001b[0m:      Received initial parameters from one random client\n",
      "\u001b[92mINFO \u001b[0m:      Starting evaluation of initial global parameters\n",
      "\u001b[92mINFO \u001b[0m:      Evaluation returned no results (`None`)\n",
      "\u001b[92mINFO \u001b[0m:      \n",
      "\u001b[92mINFO \u001b[0m:      [ROUND 1]\n",
      "\u001b[92mINFO \u001b[0m:      configure_fit: strategy sampled 3 clients (out of 3)\n"
     ]
    },
    {
     "name": "stdout",
     "output_type": "stream",
     "text": [
      "\u001b[36m(ClientAppActor pid=34776)\u001b[0m Files already downloaded and verified\n"
     ]
    },
    {
     "name": "stderr",
     "output_type": "stream",
     "text": [
      "\u001b[36m(ClientAppActor pid=34776)\u001b[0m \u001b[93mWARNING \u001b[0m:   Deprecation Warning: The `client_fn` function must return an instance of `Client`, but an instance of `NumpyClient` was returned. Please use `NumPyClient.to_client()` method to convert it to `Client`.\n",
      "\u001b[36m(ClientAppActor pid=34776)\u001b[0m \u001b[93mWARNING \u001b[0m:   DEPRECATED FEATURE: `client_fn` now expects a signature `def client_fn(context: Context)`.The provided `client_fn` has signature: {'cid': <Parameter \"cid: str\">}. You can import the `Context` like this: `from flwr.common import Context`\n",
      "\u001b[36m(ClientAppActor pid=34776)\u001b[0m \n",
      "\u001b[36m(ClientAppActor pid=34776)\u001b[0m             This is a deprecated feature. It will be removed\n",
      "\u001b[36m(ClientAppActor pid=34776)\u001b[0m             entirely in future versions of Flower.\n",
      "\u001b[36m(ClientAppActor pid=34776)\u001b[0m         \n"
     ]
    },
    {
     "name": "stdout",
     "output_type": "stream",
     "text": [
      "\u001b[36m(ClientAppActor pid=34776)\u001b[0m Files already downloaded and verified\n",
      "\u001b[36m(ClientAppActor pid=34776)\u001b[0m Files already downloaded and verified\n"
     ]
    },
    {
     "name": "stderr",
     "output_type": "stream",
     "text": [
      "\u001b[36m(ClientAppActor pid=34775)\u001b[0m \n",
      "\u001b[36m(ClientAppActor pid=34775)\u001b[0m         \n",
      "\u001b[36m(ClientAppActor pid=34774)\u001b[0m \n",
      "\u001b[36m(ClientAppActor pid=34774)\u001b[0m         \n",
      "\u001b[36m(ClientAppActor pid=34776)\u001b[0m \u001b[93mWARNING \u001b[0m:   Deprecation Warning: The `client_fn` function must return an instance of `Client`, but an instance of `NumpyClient` was returned. Please use `NumPyClient.to_client()` method to convert it to `Client`.\n",
      "\u001b[92mINFO \u001b[0m:      aggregate_fit: received 3 results and 0 failures\n",
      "\u001b[93mWARNING \u001b[0m:   No fit_metrics_aggregation_fn provided\n",
      "\u001b[92mINFO \u001b[0m:      configure_evaluate: strategy sampled 3 clients (out of 3)\n",
      "\u001b[36m(ClientAppActor pid=34775)\u001b[0m \n",
      "\u001b[36m(ClientAppActor pid=34775)\u001b[0m         \n",
      "\u001b[36m(ClientAppActor pid=34775)\u001b[0m \u001b[93mWARNING \u001b[0m:   DEPRECATED FEATURE: `client_fn` now expects a signature `def client_fn(context: Context)`.The provided `client_fn` has signature: {'cid': <Parameter \"cid: str\">}. You can import the `Context` like this: `from flwr.common import Context`\u001b[32m [repeated 3x across cluster]\u001b[0m\n",
      "\u001b[36m(ClientAppActor pid=34775)\u001b[0m             This is a deprecated feature. It will be removed\u001b[32m [repeated 3x across cluster]\u001b[0m\n",
      "\u001b[36m(ClientAppActor pid=34775)\u001b[0m             entirely in future versions of Flower.\u001b[32m [repeated 3x across cluster]\u001b[0m\n",
      "\u001b[36m(ClientAppActor pid=34774)\u001b[0m \u001b[93mWARNING \u001b[0m:   Deprecation Warning: The `client_fn` function must return an instance of `Client`, but an instance of `NumpyClient` was returned. Please use `NumPyClient.to_client()` method to convert it to `Client`.\u001b[32m [repeated 2x across cluster]\u001b[0m\n",
      "\u001b[36m(ClientAppActor pid=34774)\u001b[0m \n",
      "\u001b[36m(ClientAppActor pid=34774)\u001b[0m         \n",
      "\u001b[36m(ClientAppActor pid=34776)\u001b[0m \n",
      "\u001b[36m(ClientAppActor pid=34776)\u001b[0m         \n"
     ]
    },
    {
     "name": "stdout",
     "output_type": "stream",
     "text": [
      "\u001b[36m(ClientAppActor pid=34775)\u001b[0m Files already downloaded and verified\u001b[32m [repeated 5x across cluster]\u001b[0m\n"
     ]
    },
    {
     "name": "stderr",
     "output_type": "stream",
     "text": [
      "\u001b[92mINFO \u001b[0m:      aggregate_evaluate: received 3 results and 0 failures\n",
      "\u001b[92mINFO \u001b[0m:      \n",
      "\u001b[92mINFO \u001b[0m:      [ROUND 2]\n",
      "\u001b[92mINFO \u001b[0m:      configure_fit: strategy sampled 3 clients (out of 3)\n",
      "\u001b[36m(ClientAppActor pid=34775)\u001b[0m \n",
      "\u001b[36m(ClientAppActor pid=34775)\u001b[0m         \n",
      "\u001b[36m(ClientAppActor pid=34774)\u001b[0m \n",
      "\u001b[36m(ClientAppActor pid=34774)\u001b[0m         \n",
      "\u001b[36m(ClientAppActor pid=34776)\u001b[0m \n",
      "\u001b[36m(ClientAppActor pid=34776)\u001b[0m         \n",
      "\u001b[92mINFO \u001b[0m:      aggregate_fit: received 3 results and 0 failures\n",
      "\u001b[92mINFO \u001b[0m:      configure_evaluate: strategy sampled 3 clients (out of 3)\n",
      "\u001b[36m(ClientAppActor pid=34775)\u001b[0m \n",
      "\u001b[36m(ClientAppActor pid=34775)\u001b[0m         \n",
      "\u001b[36m(ClientAppActor pid=34775)\u001b[0m \u001b[93mWARNING \u001b[0m:   DEPRECATED FEATURE: `client_fn` now expects a signature `def client_fn(context: Context)`.The provided `client_fn` has signature: {'cid': <Parameter \"cid: str\">}. You can import the `Context` like this: `from flwr.common import Context`\u001b[32m [repeated 6x across cluster]\u001b[0m\n",
      "\u001b[36m(ClientAppActor pid=34775)\u001b[0m             This is a deprecated feature. It will be removed\u001b[32m [repeated 6x across cluster]\u001b[0m\n",
      "\u001b[36m(ClientAppActor pid=34775)\u001b[0m             entirely in future versions of Flower.\u001b[32m [repeated 6x across cluster]\u001b[0m\n",
      "\u001b[36m(ClientAppActor pid=34776)\u001b[0m \u001b[93mWARNING \u001b[0m:   Deprecation Warning: The `client_fn` function must return an instance of `Client`, but an instance of `NumpyClient` was returned. Please use `NumPyClient.to_client()` method to convert it to `Client`.\u001b[32m [repeated 6x across cluster]\u001b[0m\n",
      "\u001b[36m(ClientAppActor pid=34774)\u001b[0m \n",
      "\u001b[36m(ClientAppActor pid=34774)\u001b[0m         \n",
      "\u001b[36m(ClientAppActor pid=34776)\u001b[0m \n",
      "\u001b[36m(ClientAppActor pid=34776)\u001b[0m         \n"
     ]
    },
    {
     "name": "stdout",
     "output_type": "stream",
     "text": [
      "\u001b[36m(ClientAppActor pid=34775)\u001b[0m Files already downloaded and verified\u001b[32m [repeated 12x across cluster]\u001b[0m\n"
     ]
    },
    {
     "name": "stderr",
     "output_type": "stream",
     "text": [
      "\u001b[92mINFO \u001b[0m:      aggregate_evaluate: received 3 results and 0 failures\n",
      "\u001b[92mINFO \u001b[0m:      \n",
      "\u001b[92mINFO \u001b[0m:      [ROUND 3]\n",
      "\u001b[92mINFO \u001b[0m:      configure_fit: strategy sampled 3 clients (out of 3)\n",
      "\u001b[36m(ClientAppActor pid=34775)\u001b[0m \n",
      "\u001b[36m(ClientAppActor pid=34775)\u001b[0m         \n",
      "\u001b[36m(ClientAppActor pid=34774)\u001b[0m \n",
      "\u001b[36m(ClientAppActor pid=34774)\u001b[0m         \n",
      "\u001b[36m(ClientAppActor pid=34776)\u001b[0m \n",
      "\u001b[36m(ClientAppActor pid=34776)\u001b[0m         \n",
      "\u001b[92mINFO \u001b[0m:      aggregate_fit: received 3 results and 0 failures\n",
      "\u001b[92mINFO \u001b[0m:      configure_evaluate: strategy sampled 3 clients (out of 3)\n",
      "\u001b[36m(ClientAppActor pid=34775)\u001b[0m \n",
      "\u001b[36m(ClientAppActor pid=34775)\u001b[0m         \n",
      "\u001b[36m(ClientAppActor pid=34775)\u001b[0m \u001b[93mWARNING \u001b[0m:   DEPRECATED FEATURE: `client_fn` now expects a signature `def client_fn(context: Context)`.The provided `client_fn` has signature: {'cid': <Parameter \"cid: str\">}. You can import the `Context` like this: `from flwr.common import Context`\u001b[32m [repeated 6x across cluster]\u001b[0m\n",
      "\u001b[36m(ClientAppActor pid=34775)\u001b[0m             This is a deprecated feature. It will be removed\u001b[32m [repeated 6x across cluster]\u001b[0m\n",
      "\u001b[36m(ClientAppActor pid=34775)\u001b[0m             entirely in future versions of Flower.\u001b[32m [repeated 6x across cluster]\u001b[0m\n",
      "\u001b[36m(ClientAppActor pid=34776)\u001b[0m \u001b[93mWARNING \u001b[0m:   Deprecation Warning: The `client_fn` function must return an instance of `Client`, but an instance of `NumpyClient` was returned. Please use `NumPyClient.to_client()` method to convert it to `Client`.\u001b[32m [repeated 6x across cluster]\u001b[0m\n",
      "\u001b[36m(ClientAppActor pid=34774)\u001b[0m \n",
      "\u001b[36m(ClientAppActor pid=34774)\u001b[0m         \n",
      "\u001b[36m(ClientAppActor pid=34776)\u001b[0m \n",
      "\u001b[36m(ClientAppActor pid=34776)\u001b[0m         \n"
     ]
    },
    {
     "name": "stdout",
     "output_type": "stream",
     "text": [
      "\u001b[36m(ClientAppActor pid=34775)\u001b[0m Files already downloaded and verified\u001b[32m [repeated 12x across cluster]\u001b[0m\n"
     ]
    },
    {
     "name": "stderr",
     "output_type": "stream",
     "text": [
      "\u001b[92mINFO \u001b[0m:      aggregate_evaluate: received 3 results and 0 failures\n",
      "\u001b[92mINFO \u001b[0m:      \n",
      "\u001b[92mINFO \u001b[0m:      [ROUND 4]\n",
      "\u001b[92mINFO \u001b[0m:      configure_fit: strategy sampled 3 clients (out of 3)\n",
      "\u001b[36m(ClientAppActor pid=34776)\u001b[0m \n",
      "\u001b[36m(ClientAppActor pid=34776)\u001b[0m         \n",
      "\u001b[36m(ClientAppActor pid=34774)\u001b[0m \n",
      "\u001b[36m(ClientAppActor pid=34774)\u001b[0m         \n",
      "\u001b[36m(ClientAppActor pid=34775)\u001b[0m \n",
      "\u001b[36m(ClientAppActor pid=34775)\u001b[0m         \n",
      "\u001b[92mINFO \u001b[0m:      aggregate_fit: received 3 results and 0 failures\n",
      "\u001b[92mINFO \u001b[0m:      configure_evaluate: strategy sampled 3 clients (out of 3)\n",
      "\u001b[36m(ClientAppActor pid=34775)\u001b[0m \n",
      "\u001b[36m(ClientAppActor pid=34775)\u001b[0m         \n",
      "\u001b[36m(ClientAppActor pid=34775)\u001b[0m \u001b[93mWARNING \u001b[0m:   DEPRECATED FEATURE: `client_fn` now expects a signature `def client_fn(context: Context)`.The provided `client_fn` has signature: {'cid': <Parameter \"cid: str\">}. You can import the `Context` like this: `from flwr.common import Context`\u001b[32m [repeated 6x across cluster]\u001b[0m\n",
      "\u001b[36m(ClientAppActor pid=34775)\u001b[0m             This is a deprecated feature. It will be removed\u001b[32m [repeated 6x across cluster]\u001b[0m\n",
      "\u001b[36m(ClientAppActor pid=34775)\u001b[0m             entirely in future versions of Flower.\u001b[32m [repeated 6x across cluster]\u001b[0m\n",
      "\u001b[36m(ClientAppActor pid=34776)\u001b[0m \u001b[93mWARNING \u001b[0m:   Deprecation Warning: The `client_fn` function must return an instance of `Client`, but an instance of `NumpyClient` was returned. Please use `NumPyClient.to_client()` method to convert it to `Client`.\u001b[32m [repeated 6x across cluster]\u001b[0m\n",
      "\u001b[36m(ClientAppActor pid=34774)\u001b[0m \n",
      "\u001b[36m(ClientAppActor pid=34774)\u001b[0m         \n",
      "\u001b[36m(ClientAppActor pid=34776)\u001b[0m \n",
      "\u001b[36m(ClientAppActor pid=34776)\u001b[0m         \n"
     ]
    },
    {
     "name": "stdout",
     "output_type": "stream",
     "text": [
      "\u001b[36m(ClientAppActor pid=34775)\u001b[0m Files already downloaded and verified\u001b[32m [repeated 12x across cluster]\u001b[0m\n"
     ]
    },
    {
     "name": "stderr",
     "output_type": "stream",
     "text": [
      "\u001b[92mINFO \u001b[0m:      aggregate_evaluate: received 3 results and 0 failures\n",
      "\u001b[92mINFO \u001b[0m:      \n",
      "\u001b[92mINFO \u001b[0m:      [ROUND 5]\n",
      "\u001b[92mINFO \u001b[0m:      configure_fit: strategy sampled 3 clients (out of 3)\n",
      "\u001b[36m(ClientAppActor pid=34775)\u001b[0m \n",
      "\u001b[36m(ClientAppActor pid=34775)\u001b[0m         \n",
      "\u001b[36m(ClientAppActor pid=34774)\u001b[0m \n",
      "\u001b[36m(ClientAppActor pid=34774)\u001b[0m         \n",
      "\u001b[36m(ClientAppActor pid=34776)\u001b[0m \n",
      "\u001b[36m(ClientAppActor pid=34776)\u001b[0m         \n",
      "\u001b[92mINFO \u001b[0m:      aggregate_fit: received 3 results and 0 failures\n",
      "\u001b[92mINFO \u001b[0m:      configure_evaluate: strategy sampled 3 clients (out of 3)\n",
      "\u001b[36m(ClientAppActor pid=34775)\u001b[0m \n",
      "\u001b[36m(ClientAppActor pid=34775)\u001b[0m         \n",
      "\u001b[36m(ClientAppActor pid=34775)\u001b[0m \u001b[93mWARNING \u001b[0m:   DEPRECATED FEATURE: `client_fn` now expects a signature `def client_fn(context: Context)`.The provided `client_fn` has signature: {'cid': <Parameter \"cid: str\">}. You can import the `Context` like this: `from flwr.common import Context`\u001b[32m [repeated 6x across cluster]\u001b[0m\n",
      "\u001b[36m(ClientAppActor pid=34775)\u001b[0m             This is a deprecated feature. It will be removed\u001b[32m [repeated 6x across cluster]\u001b[0m\n",
      "\u001b[36m(ClientAppActor pid=34775)\u001b[0m             entirely in future versions of Flower.\u001b[32m [repeated 6x across cluster]\u001b[0m\n",
      "\u001b[36m(ClientAppActor pid=34776)\u001b[0m \u001b[93mWARNING \u001b[0m:   Deprecation Warning: The `client_fn` function must return an instance of `Client`, but an instance of `NumpyClient` was returned. Please use `NumPyClient.to_client()` method to convert it to `Client`.\u001b[32m [repeated 6x across cluster]\u001b[0m\n",
      "\u001b[36m(ClientAppActor pid=34774)\u001b[0m \n",
      "\u001b[36m(ClientAppActor pid=34774)\u001b[0m         \n",
      "\u001b[36m(ClientAppActor pid=34776)\u001b[0m \n",
      "\u001b[36m(ClientAppActor pid=34776)\u001b[0m         \n"
     ]
    },
    {
     "name": "stdout",
     "output_type": "stream",
     "text": [
      "\u001b[36m(ClientAppActor pid=34775)\u001b[0m Files already downloaded and verified\u001b[32m [repeated 12x across cluster]\u001b[0m\n"
     ]
    },
    {
     "name": "stderr",
     "output_type": "stream",
     "text": [
      "\u001b[92mINFO \u001b[0m:      aggregate_evaluate: received 3 results and 0 failures\n",
      "\u001b[92mINFO \u001b[0m:      \n",
      "\u001b[92mINFO \u001b[0m:      [ROUND 6]\n",
      "\u001b[92mINFO \u001b[0m:      configure_fit: strategy sampled 3 clients (out of 3)\n",
      "\u001b[36m(ClientAppActor pid=34775)\u001b[0m \n",
      "\u001b[36m(ClientAppActor pid=34775)\u001b[0m         \n",
      "\u001b[36m(ClientAppActor pid=34774)\u001b[0m \n",
      "\u001b[36m(ClientAppActor pid=34774)\u001b[0m         \n",
      "\u001b[36m(ClientAppActor pid=34776)\u001b[0m \n",
      "\u001b[36m(ClientAppActor pid=34776)\u001b[0m         \n",
      "\u001b[92mINFO \u001b[0m:      aggregate_fit: received 3 results and 0 failures\n",
      "\u001b[92mINFO \u001b[0m:      configure_evaluate: strategy sampled 3 clients (out of 3)\n",
      "\u001b[36m(ClientAppActor pid=34775)\u001b[0m \n",
      "\u001b[36m(ClientAppActor pid=34775)\u001b[0m         \n",
      "\u001b[36m(ClientAppActor pid=34775)\u001b[0m \u001b[93mWARNING \u001b[0m:   DEPRECATED FEATURE: `client_fn` now expects a signature `def client_fn(context: Context)`.The provided `client_fn` has signature: {'cid': <Parameter \"cid: str\">}. You can import the `Context` like this: `from flwr.common import Context`\u001b[32m [repeated 6x across cluster]\u001b[0m\n",
      "\u001b[36m(ClientAppActor pid=34775)\u001b[0m             This is a deprecated feature. It will be removed\u001b[32m [repeated 6x across cluster]\u001b[0m\n",
      "\u001b[36m(ClientAppActor pid=34775)\u001b[0m             entirely in future versions of Flower.\u001b[32m [repeated 6x across cluster]\u001b[0m\n",
      "\u001b[36m(ClientAppActor pid=34776)\u001b[0m \u001b[93mWARNING \u001b[0m:   Deprecation Warning: The `client_fn` function must return an instance of `Client`, but an instance of `NumpyClient` was returned. Please use `NumPyClient.to_client()` method to convert it to `Client`.\u001b[32m [repeated 6x across cluster]\u001b[0m\n",
      "\u001b[36m(ClientAppActor pid=34774)\u001b[0m \n",
      "\u001b[36m(ClientAppActor pid=34774)\u001b[0m         \n",
      "\u001b[36m(ClientAppActor pid=34776)\u001b[0m \n",
      "\u001b[36m(ClientAppActor pid=34776)\u001b[0m         \n"
     ]
    },
    {
     "name": "stdout",
     "output_type": "stream",
     "text": [
      "\u001b[36m(ClientAppActor pid=34775)\u001b[0m Files already downloaded and verified\u001b[32m [repeated 12x across cluster]\u001b[0m\n"
     ]
    },
    {
     "name": "stderr",
     "output_type": "stream",
     "text": [
      "\u001b[92mINFO \u001b[0m:      aggregate_evaluate: received 3 results and 0 failures\n",
      "\u001b[92mINFO \u001b[0m:      \n",
      "\u001b[92mINFO \u001b[0m:      [ROUND 7]\n",
      "\u001b[92mINFO \u001b[0m:      configure_fit: strategy sampled 3 clients (out of 3)\n",
      "\u001b[36m(ClientAppActor pid=34775)\u001b[0m \n",
      "\u001b[36m(ClientAppActor pid=34775)\u001b[0m         \n",
      "\u001b[36m(ClientAppActor pid=34774)\u001b[0m \n",
      "\u001b[36m(ClientAppActor pid=34774)\u001b[0m         \n",
      "\u001b[36m(ClientAppActor pid=34776)\u001b[0m \n",
      "\u001b[36m(ClientAppActor pid=34776)\u001b[0m         \n",
      "\u001b[92mINFO \u001b[0m:      aggregate_fit: received 3 results and 0 failures\n",
      "\u001b[92mINFO \u001b[0m:      configure_evaluate: strategy sampled 3 clients (out of 3)\n",
      "\u001b[36m(ClientAppActor pid=34775)\u001b[0m \n",
      "\u001b[36m(ClientAppActor pid=34775)\u001b[0m         \n",
      "\u001b[36m(ClientAppActor pid=34775)\u001b[0m \u001b[93mWARNING \u001b[0m:   DEPRECATED FEATURE: `client_fn` now expects a signature `def client_fn(context: Context)`.The provided `client_fn` has signature: {'cid': <Parameter \"cid: str\">}. You can import the `Context` like this: `from flwr.common import Context`\u001b[32m [repeated 6x across cluster]\u001b[0m\n",
      "\u001b[36m(ClientAppActor pid=34775)\u001b[0m             This is a deprecated feature. It will be removed\u001b[32m [repeated 6x across cluster]\u001b[0m\n",
      "\u001b[36m(ClientAppActor pid=34775)\u001b[0m             entirely in future versions of Flower.\u001b[32m [repeated 6x across cluster]\u001b[0m\n",
      "\u001b[36m(ClientAppActor pid=34776)\u001b[0m \u001b[93mWARNING \u001b[0m:   Deprecation Warning: The `client_fn` function must return an instance of `Client`, but an instance of `NumpyClient` was returned. Please use `NumPyClient.to_client()` method to convert it to `Client`.\u001b[32m [repeated 6x across cluster]\u001b[0m\n",
      "\u001b[36m(ClientAppActor pid=34774)\u001b[0m \n",
      "\u001b[36m(ClientAppActor pid=34774)\u001b[0m         \n",
      "\u001b[36m(ClientAppActor pid=34776)\u001b[0m \n",
      "\u001b[36m(ClientAppActor pid=34776)\u001b[0m         \n"
     ]
    },
    {
     "name": "stdout",
     "output_type": "stream",
     "text": [
      "\u001b[36m(ClientAppActor pid=34775)\u001b[0m Files already downloaded and verified\u001b[32m [repeated 12x across cluster]\u001b[0m\n"
     ]
    },
    {
     "name": "stderr",
     "output_type": "stream",
     "text": [
      "\u001b[92mINFO \u001b[0m:      aggregate_evaluate: received 3 results and 0 failures\n",
      "\u001b[92mINFO \u001b[0m:      \n",
      "\u001b[92mINFO \u001b[0m:      [ROUND 8]\n",
      "\u001b[92mINFO \u001b[0m:      configure_fit: strategy sampled 3 clients (out of 3)\n",
      "\u001b[36m(ClientAppActor pid=34775)\u001b[0m \n",
      "\u001b[36m(ClientAppActor pid=34775)\u001b[0m         \n",
      "\u001b[36m(ClientAppActor pid=34774)\u001b[0m \n",
      "\u001b[36m(ClientAppActor pid=34774)\u001b[0m         \n",
      "\u001b[36m(ClientAppActor pid=34776)\u001b[0m \n",
      "\u001b[36m(ClientAppActor pid=34776)\u001b[0m         \n",
      "\u001b[92mINFO \u001b[0m:      aggregate_fit: received 3 results and 0 failures\n",
      "\u001b[92mINFO \u001b[0m:      configure_evaluate: strategy sampled 3 clients (out of 3)\n",
      "\u001b[36m(ClientAppActor pid=34775)\u001b[0m \n",
      "\u001b[36m(ClientAppActor pid=34775)\u001b[0m         \n",
      "\u001b[36m(ClientAppActor pid=34775)\u001b[0m \u001b[93mWARNING \u001b[0m:   DEPRECATED FEATURE: `client_fn` now expects a signature `def client_fn(context: Context)`.The provided `client_fn` has signature: {'cid': <Parameter \"cid: str\">}. You can import the `Context` like this: `from flwr.common import Context`\u001b[32m [repeated 6x across cluster]\u001b[0m\n",
      "\u001b[36m(ClientAppActor pid=34775)\u001b[0m             This is a deprecated feature. It will be removed\u001b[32m [repeated 6x across cluster]\u001b[0m\n",
      "\u001b[36m(ClientAppActor pid=34775)\u001b[0m             entirely in future versions of Flower.\u001b[32m [repeated 6x across cluster]\u001b[0m\n",
      "\u001b[36m(ClientAppActor pid=34776)\u001b[0m \u001b[93mWARNING \u001b[0m:   Deprecation Warning: The `client_fn` function must return an instance of `Client`, but an instance of `NumpyClient` was returned. Please use `NumPyClient.to_client()` method to convert it to `Client`.\u001b[32m [repeated 6x across cluster]\u001b[0m\n",
      "\u001b[36m(ClientAppActor pid=34774)\u001b[0m \n",
      "\u001b[36m(ClientAppActor pid=34774)\u001b[0m         \n",
      "\u001b[36m(ClientAppActor pid=34776)\u001b[0m \n",
      "\u001b[36m(ClientAppActor pid=34776)\u001b[0m         \n"
     ]
    },
    {
     "name": "stdout",
     "output_type": "stream",
     "text": [
      "\u001b[36m(ClientAppActor pid=34775)\u001b[0m Files already downloaded and verified\u001b[32m [repeated 12x across cluster]\u001b[0m\n"
     ]
    },
    {
     "name": "stderr",
     "output_type": "stream",
     "text": [
      "\u001b[92mINFO \u001b[0m:      aggregate_evaluate: received 3 results and 0 failures\n",
      "\u001b[92mINFO \u001b[0m:      \n",
      "\u001b[92mINFO \u001b[0m:      [ROUND 9]\n",
      "\u001b[92mINFO \u001b[0m:      configure_fit: strategy sampled 3 clients (out of 3)\n",
      "\u001b[36m(ClientAppActor pid=34775)\u001b[0m \n",
      "\u001b[36m(ClientAppActor pid=34775)\u001b[0m         \n",
      "\u001b[36m(ClientAppActor pid=34774)\u001b[0m \n",
      "\u001b[36m(ClientAppActor pid=34774)\u001b[0m         \n",
      "\u001b[36m(ClientAppActor pid=34776)\u001b[0m \n",
      "\u001b[36m(ClientAppActor pid=34776)\u001b[0m         \n",
      "\u001b[92mINFO \u001b[0m:      aggregate_fit: received 3 results and 0 failures\n",
      "\u001b[92mINFO \u001b[0m:      configure_evaluate: strategy sampled 3 clients (out of 3)\n",
      "\u001b[36m(ClientAppActor pid=34775)\u001b[0m \n",
      "\u001b[36m(ClientAppActor pid=34775)\u001b[0m         \n",
      "\u001b[36m(ClientAppActor pid=34775)\u001b[0m \u001b[93mWARNING \u001b[0m:   DEPRECATED FEATURE: `client_fn` now expects a signature `def client_fn(context: Context)`.The provided `client_fn` has signature: {'cid': <Parameter \"cid: str\">}. You can import the `Context` like this: `from flwr.common import Context`\u001b[32m [repeated 6x across cluster]\u001b[0m\n",
      "\u001b[36m(ClientAppActor pid=34775)\u001b[0m             This is a deprecated feature. It will be removed\u001b[32m [repeated 6x across cluster]\u001b[0m\n",
      "\u001b[36m(ClientAppActor pid=34775)\u001b[0m             entirely in future versions of Flower.\u001b[32m [repeated 6x across cluster]\u001b[0m\n",
      "\u001b[36m(ClientAppActor pid=34776)\u001b[0m \u001b[93mWARNING \u001b[0m:   Deprecation Warning: The `client_fn` function must return an instance of `Client`, but an instance of `NumpyClient` was returned. Please use `NumPyClient.to_client()` method to convert it to `Client`.\u001b[32m [repeated 6x across cluster]\u001b[0m\n",
      "\u001b[36m(ClientAppActor pid=34776)\u001b[0m \n",
      "\u001b[36m(ClientAppActor pid=34776)\u001b[0m         \n",
      "\u001b[36m(ClientAppActor pid=34774)\u001b[0m \n",
      "\u001b[36m(ClientAppActor pid=34774)\u001b[0m         \n"
     ]
    },
    {
     "name": "stdout",
     "output_type": "stream",
     "text": [
      "\u001b[36m(ClientAppActor pid=34775)\u001b[0m Files already downloaded and verified\u001b[32m [repeated 12x across cluster]\u001b[0m\n"
     ]
    },
    {
     "name": "stderr",
     "output_type": "stream",
     "text": [
      "\u001b[92mINFO \u001b[0m:      aggregate_evaluate: received 3 results and 0 failures\n",
      "\u001b[92mINFO \u001b[0m:      \n",
      "\u001b[92mINFO \u001b[0m:      [ROUND 10]\n",
      "\u001b[92mINFO \u001b[0m:      configure_fit: strategy sampled 3 clients (out of 3)\n",
      "\u001b[36m(ClientAppActor pid=34775)\u001b[0m \n",
      "\u001b[36m(ClientAppActor pid=34775)\u001b[0m         \n",
      "\u001b[36m(ClientAppActor pid=34774)\u001b[0m \n",
      "\u001b[36m(ClientAppActor pid=34774)\u001b[0m         \n",
      "\u001b[36m(ClientAppActor pid=34776)\u001b[0m \n",
      "\u001b[36m(ClientAppActor pid=34776)\u001b[0m         \n",
      "\u001b[92mINFO \u001b[0m:      aggregate_fit: received 3 results and 0 failures\n",
      "\u001b[92mINFO \u001b[0m:      configure_evaluate: strategy sampled 3 clients (out of 3)\n",
      "\u001b[36m(ClientAppActor pid=34775)\u001b[0m \n",
      "\u001b[36m(ClientAppActor pid=34775)\u001b[0m         \n",
      "\u001b[36m(ClientAppActor pid=34775)\u001b[0m \u001b[93mWARNING \u001b[0m:   DEPRECATED FEATURE: `client_fn` now expects a signature `def client_fn(context: Context)`.The provided `client_fn` has signature: {'cid': <Parameter \"cid: str\">}. You can import the `Context` like this: `from flwr.common import Context`\u001b[32m [repeated 6x across cluster]\u001b[0m\n",
      "\u001b[36m(ClientAppActor pid=34775)\u001b[0m             This is a deprecated feature. It will be removed\u001b[32m [repeated 6x across cluster]\u001b[0m\n",
      "\u001b[36m(ClientAppActor pid=34775)\u001b[0m             entirely in future versions of Flower.\u001b[32m [repeated 6x across cluster]\u001b[0m\n",
      "\u001b[36m(ClientAppActor pid=34776)\u001b[0m \u001b[93mWARNING \u001b[0m:   Deprecation Warning: The `client_fn` function must return an instance of `Client`, but an instance of `NumpyClient` was returned. Please use `NumPyClient.to_client()` method to convert it to `Client`.\u001b[32m [repeated 6x across cluster]\u001b[0m\n",
      "\u001b[36m(ClientAppActor pid=34774)\u001b[0m \n",
      "\u001b[36m(ClientAppActor pid=34774)\u001b[0m         \n",
      "\u001b[36m(ClientAppActor pid=34776)\u001b[0m \n",
      "\u001b[36m(ClientAppActor pid=34776)\u001b[0m         \n"
     ]
    },
    {
     "name": "stdout",
     "output_type": "stream",
     "text": [
      "\u001b[36m(ClientAppActor pid=34775)\u001b[0m Files already downloaded and verified\u001b[32m [repeated 12x across cluster]\u001b[0m\n"
     ]
    },
    {
     "name": "stderr",
     "output_type": "stream",
     "text": [
      "\u001b[92mINFO \u001b[0m:      aggregate_evaluate: received 3 results and 0 failures\n",
      "\u001b[92mINFO \u001b[0m:      \n",
      "\u001b[92mINFO \u001b[0m:      [SUMMARY]\n",
      "\u001b[92mINFO \u001b[0m:      Run finished 10 round(s) in 185.69s\n",
      "\u001b[92mINFO \u001b[0m:      \tHistory (loss, distributed):\n",
      "\u001b[92mINFO \u001b[0m:      \t\tround 1: 0.02313153032064438\n",
      "\u001b[92mINFO \u001b[0m:      \t\tround 2: 0.017653076803684234\n",
      "\u001b[92mINFO \u001b[0m:      \t\tround 3: 0.016002609592676163\n",
      "\u001b[92mINFO \u001b[0m:      \t\tround 4: 0.014308809116482735\n",
      "\u001b[92mINFO \u001b[0m:      \t\tround 5: 0.013395421329140664\n",
      "\u001b[92mINFO \u001b[0m:      \t\tround 6: 0.01327821038365364\n",
      "\u001b[92mINFO \u001b[0m:      \t\tround 7: 0.012708151549845934\n",
      "\u001b[92mINFO \u001b[0m:      \t\tround 8: 0.012220570673048495\n",
      "\u001b[92mINFO \u001b[0m:      \t\tround 9: 0.012036612993478775\n",
      "\u001b[92mINFO \u001b[0m:      \t\tround 10: 0.012553899621963502\n",
      "\u001b[92mINFO \u001b[0m:      \tHistory (metrics, distributed, evaluate):\n",
      "\u001b[92mINFO \u001b[0m:      \t{'accuracy': [(1, 0.4829),\n",
      "\u001b[92mINFO \u001b[0m:      \t              (2, 0.6057),\n",
      "\u001b[92mINFO \u001b[0m:      \t              (3, 0.6415),\n",
      "\u001b[92mINFO \u001b[0m:      \t              (4, 0.6825),\n",
      "\u001b[92mINFO \u001b[0m:      \t              (5, 0.7029),\n",
      "\u001b[92mINFO \u001b[0m:      \t              (6, 0.708),\n",
      "\u001b[92mINFO \u001b[0m:      \t              (7, 0.7299),\n",
      "\u001b[92mINFO \u001b[0m:      \t              (8, 0.735),\n",
      "\u001b[92mINFO \u001b[0m:      \t              (9, 0.7388),\n",
      "\u001b[92mINFO \u001b[0m:      \t              (10, 0.7388)]}\n",
      "\u001b[92mINFO \u001b[0m:      \n"
     ]
    }
   ],
   "source": [
    "\n",
    "# Run the Flower simulation\n",
    "if __name__ == \"__main__\":\n",
    "    num_clients = 3 # You can adjust the number of clients\n",
    "    fl.simulation.start_simulation(\n",
    "        client_fn=client_fn,\n",
    "        num_clients=num_clients,\n",
    "        config=fl.server.ServerConfig(num_rounds=10),  # Number of FL rounds\n",
    "        strategy=strategy,\n",
    "        client_resources={\"num_cpus\": 1, \"memory\": 4096}, # Use 'num_cpus' instead of 'cpu'\n",
    "    )"
   ]
  }
 ],
 "metadata": {
  "kernelspec": {
   "display_name": "base",
   "language": "python",
   "name": "python3"
  },
  "language_info": {
   "codemirror_mode": {
    "name": "ipython",
    "version": 3
   },
   "file_extension": ".py",
   "mimetype": "text/x-python",
   "name": "python",
   "nbconvert_exporter": "python",
   "pygments_lexer": "ipython3",
   "version": "3.12.2"
  }
 },
 "nbformat": 4,
 "nbformat_minor": 5
}
